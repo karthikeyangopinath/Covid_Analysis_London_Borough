{
 "cells": [
  {
   "cell_type": "markdown",
   "metadata": {},
   "source": [
    "# Coursework 2 - Part 2\n"
   ]
  },
  {
   "cell_type": "code",
   "execution_count": 1,
   "metadata": {},
   "outputs": [],
   "source": [
    "################ Coursework 2 #######################\n",
    "###################Part 2###################################\n",
    "\n",
    "###### Import the packages ###############\n",
    "import numpy as np;\n",
    "import pandas as pd;\n",
    "import os;\n",
    "import datetime as dt;\n",
    "import matplotlib.pyplot as plt"
   ]
  },
  {
   "cell_type": "markdown",
   "metadata": {},
   "source": [
    "\n",
    "### 2.1: Reading in the datasets (2 marks)\n",
    "Read columns \"country, date, cases\" from file \"confirmed\\_cases\\_by\\_country.csv\" into a dataframe called \"cases\\_by\\_country\".\n",
    "Read columns \"is\\_china, date, cases\" from \"confirmed\\_cases\\_china\\_vs\\_world.csv\" into a dataframe called \"cases\\_all\". Rename the column \"is\\_china\" to \"country\" (hint you may use .rename()). Then split this dataframe into two new ones: cases in China (\"cases\\_china\") and cases elsewhere (\"cases\\_not\\_china\"). "
   ]
  },
  {
   "cell_type": "code",
   "execution_count": 2,
   "metadata": {},
   "outputs": [],
   "source": [
    "###########Read the csv files into a data frame######################\n",
    "\n",
    "\n",
    "##############Setting the Current Directory run the file ##################\n",
    "curr_dir=os.getcwd();\n",
    "confirmed_cases_by_country=curr_dir+'\\\\confirmed_cases_by_country.csv';\n",
    "confirmed_cases_china_vs_world= curr_dir+'\\\\confirmed_cases_china_vs_world.csv';\n",
    "\n",
    "\n",
    "\n",
    "### Reading onle specific coulms into the dataframe\n",
    "field_cases_country=['country','date','cases'];\n",
    "fields_all = ['is_china','date','cases'];\n",
    "\n",
    "\n",
    "cases_by_country = pd.read_csv(confirmed_cases_by_country,header=0,usecols=field_cases_country);\n",
    "cases_all = pd.read_csv(confirmed_cases_china_vs_world,header=0,usecols=fields_all);"
   ]
  },
  {
   "cell_type": "code",
   "execution_count": 3,
   "metadata": {},
   "outputs": [],
   "source": [
    "#Re-naming the column 'is_china' in 'cases_all' dataframe to a new column 'country'\n",
    "cases_all=cases_all.rename(columns={\"is_china\":\"country\"}); ## column re-named"
   ]
  },
  {
   "cell_type": "code",
   "execution_count": 4,
   "metadata": {},
   "outputs": [
    {
     "data": {
      "text/plain": [
       "country    0\n",
       "date       0\n",
       "cases      0\n",
       "dtype: int64"
      ]
     },
     "execution_count": 4,
     "metadata": {},
     "output_type": "execute_result"
    }
   ],
   "source": [
    "#Before we do furhter validation of the data we need to do some pre-checks to understand, that if the data needs any cleansing\n",
    "# Initial validation of the dataframes before we split it\n",
    "cases_all.isnull().sum()"
   ]
  },
  {
   "cell_type": "code",
   "execution_count": 5,
   "metadata": {},
   "outputs": [
    {
     "data": {
      "text/plain": [
       "country     2\n",
       "date       56\n",
       "cases      99\n",
       "dtype: int64"
      ]
     },
     "execution_count": 5,
     "metadata": {},
     "output_type": "execute_result"
    }
   ],
   "source": [
    "cases_all.count()\n",
    "# country    112\n",
    "# date       112\n",
    "# cases      112\n",
    "# dtype: int64\n",
    "    \n",
    "cases_all.nunique()\n",
    "# country     2\n",
    "# date       56\n",
    "# cases      99\n",
    "# dtype: int64\n",
    "\n",
    "# There are no null values in the cases_all data frame and there are total of 112 values split between China (56) and Non-china (56)\n",
    "# Initial Validation completed\n",
    "\n"
   ]
  },
  {
   "cell_type": "code",
   "execution_count": 6,
   "metadata": {},
   "outputs": [],
   "source": [
    "#Splitting the cases_all into dataframes cases_china and cases_not_china, based on the values in the data frame :\n",
    " # 1. We get the list of unique values in the countries dataframe\n",
    "#  2.We iterate over the uniue number of countries\n",
    "# 3. Then we dynamically create and load the dataframe per country\n",
    "#   In this case its China and no China\n",
    "\n",
    "# Getting the unique values of the cases_all country into an array\n",
    "country_names =cases_all['country'].unique()\n",
    "\n",
    "group_by_country = cases_all.groupby(cases_all.country)\n",
    "\n",
    "for i in range(len(country_names)):\n",
    "    dfname = 'cases_'+(country_names[i].lower().replace(\" \",\"_\"))\n",
    "    vars()[dfname] = group_by_country.get_group(country_names[i]).copy()\n",
    "\n",
    "# country    56\n",
    "# date       56\n",
    "# cases      56\n",
    "# dtype: int64"
   ]
  },
  {
   "cell_type": "code",
   "execution_count": 7,
   "metadata": {},
   "outputs": [
    {
     "data": {
      "text/plain": [
       "<bound method NDFrame.head of    country        date  cases\n",
       "0    China  2020-01-22    548\n",
       "1    China  2020-01-23     95\n",
       "2    China  2020-01-24    277\n",
       "3    China  2020-01-25    486\n",
       "4    China  2020-01-26    669\n",
       "5    China  2020-01-27    802\n",
       "6    China  2020-01-28   2632\n",
       "7    China  2020-01-29    578\n",
       "8    China  2020-01-30   2054\n",
       "9    China  2020-01-31   1661\n",
       "10   China  2020-02-01   2089\n",
       "11   China  2020-02-02   4739\n",
       "12   China  2020-02-03   3086\n",
       "13   China  2020-02-04   3991\n",
       "14   China  2020-02-05   3733\n",
       "15   China  2020-02-06   3147\n",
       "16   China  2020-02-07   3523\n",
       "17   China  2020-02-08   2704\n",
       "18   China  2020-02-09   3015\n",
       "19   China  2020-02-10   2525\n",
       "20   China  2020-02-11   2032\n",
       "21   China  2020-02-12    373\n",
       "22   China  2020-02-13  15136\n",
       "23   China  2020-02-14   6463\n",
       "24   China  2020-02-15   2055\n",
       "25   China  2020-02-16   2100\n",
       "26   China  2020-02-17   1921\n",
       "27   China  2020-02-18   1777\n",
       "28   China  2020-02-19    408\n",
       "29   China  2020-02-20    458\n",
       "30   China  2020-02-21    473\n",
       "31   China  2020-02-22   1451\n",
       "32   China  2020-02-23     21\n",
       "33   China  2020-02-24    219\n",
       "34   China  2020-02-25    513\n",
       "35   China  2020-02-26    412\n",
       "36   China  2020-02-27    434\n",
       "37   China  2020-02-28    328\n",
       "38   China  2020-02-29    428\n",
       "39   China  2020-03-01    576\n",
       "40   China  2020-03-02    204\n",
       "41   China  2020-03-03    125\n",
       "42   China  2020-03-04    125\n",
       "43   China  2020-03-05    151\n",
       "44   China  2020-03-06    153\n",
       "45   China  2020-03-07     80\n",
       "46   China  2020-03-08     53\n",
       "47   China  2020-03-09     37\n",
       "48   China  2020-03-10     27\n",
       "49   China  2020-03-11     34\n",
       "50   China  2020-03-12     11\n",
       "51   China  2020-03-13     13\n",
       "52   China  2020-03-14     32\n",
       "53   China  2020-03-15     26\n",
       "54   China  2020-03-16     30\n",
       "55   China  2020-03-17     25>"
      ]
     },
     "execution_count": 7,
     "metadata": {},
     "output_type": "execute_result"
    }
   ],
   "source": [
    "cases_china.count()\n",
    "#country    56\n",
    "#date       56\n",
    "#cases      56\n",
    "#dtype: int64\n",
    "\n",
    "cases_china.head"
   ]
  },
  {
   "cell_type": "code",
   "execution_count": 8,
   "metadata": {},
   "outputs": [
    {
     "data": {
      "text/plain": [
       "<bound method NDFrame.head of        country        date  cases\n",
       "56   Not China  2020-01-22      7\n",
       "57   Not China  2020-01-23      3\n",
       "58   Not China  2020-01-24     11\n",
       "59   Not China  2020-01-25      7\n",
       "60   Not China  2020-01-26     15\n",
       "61   Not China  2020-01-27      7\n",
       "62   Not China  2020-01-28     19\n",
       "63   Not China  2020-01-29     10\n",
       "64   Not China  2020-01-30     14\n",
       "65   Not China  2020-01-31     32\n",
       "66   Not China  2020-02-01     22\n",
       "67   Not China  2020-02-02     10\n",
       "68   Not China  2020-02-03      8\n",
       "69   Not China  2020-02-04     20\n",
       "70   Not China  2020-02-05     10\n",
       "71   Not China  2020-02-06     35\n",
       "72   Not China  2020-02-07     51\n",
       "73   Not China  2020-02-08     25\n",
       "74   Not China  2020-02-09     15\n",
       "75   Not China  2020-02-10     87\n",
       "76   Not China  2020-02-11      8\n",
       "77   Not China  2020-02-12     46\n",
       "78   Not China  2020-02-13     11\n",
       "79   Not China  2020-02-14     54\n",
       "80   Not China  2020-02-15     90\n",
       "81   Not China  2020-02-16     94\n",
       "82   Not China  2020-02-17    113\n",
       "83   Not China  2020-02-18    101\n",
       "84   Not China  2020-02-19     95\n",
       "85   Not China  2020-02-20    100\n",
       "86   Not China  2020-02-21    153\n",
       "87   Not China  2020-02-22    305\n",
       "88   Not China  2020-02-23    365\n",
       "89   Not China  2020-02-24    384\n",
       "90   Not China  2020-02-25    332\n",
       "91   Not China  2020-02-26    570\n",
       "92   Not China  2020-02-27    925\n",
       "93   Not China  2020-02-28   1038\n",
       "94   Not China  2020-02-29   1463\n",
       "95   Not China  2020-03-01   1782\n",
       "96   Not China  2020-03-02   1733\n",
       "97   Not China  2020-03-03   2409\n",
       "98   Not China  2020-03-04   2155\n",
       "99   Not China  2020-03-05   2611\n",
       "100  Not China  2020-03-06   3749\n",
       "101  Not China  2020-03-07   3957\n",
       "102  Not China  2020-03-08   3921\n",
       "103  Not China  2020-03-09   3729\n",
       "104  Not China  2020-03-10   5004\n",
       "105  Not China  2020-03-11   7239\n",
       "106  Not China  2020-03-12   2467\n",
       "107  Not China  2020-03-13  16837\n",
       "108  Not China  2020-03-14  10872\n",
       "109  Not China  2020-03-15  11326\n",
       "110  Not China  2020-03-16  14052\n",
       "111  Not China  2020-03-17  15590>"
      ]
     },
     "execution_count": 8,
     "metadata": {},
     "output_type": "execute_result"
    }
   ],
   "source": [
    "cases_not_china.count()\n",
    "#country    56\n",
    "#date       56\n",
    "#cases      56\n",
    "#dtype: int64\n",
    "\n",
    "cases_not_china.head"
   ]
  },
  {
   "cell_type": "code",
   "execution_count": 9,
   "metadata": {},
   "outputs": [],
   "source": [
    "# All the values from cases_all are equally split between the two dataframes\n",
    "# Task 1 is complete\n"
   ]
  },
  {
   "cell_type": "code",
   "execution_count": null,
   "metadata": {},
   "outputs": [],
   "source": []
  },
  {
   "cell_type": "markdown",
   "metadata": {},
   "source": [
    "### 2.2: Summarising the total number of confirmed cases by country (3 marks)\n",
    "Obtain the January records for \"cases\\_by\\_country\" and \"cases\\_china\" and summarise cases in China against cases in other countries in a dataframe for this month. Repeat this procedure for February and March. \n",
    "Create a bar plot to compare cases in China with cases in the 5 countries with most cases outside China for January, February and March. \n"
   ]
  },
  {
   "cell_type": "code",
   "execution_count": 10,
   "metadata": {},
   "outputs": [],
   "source": [
    "################ Task2  ###########################\n",
    "#We are analysing the Covid cases in China vs. Other countries of the world\n",
    "\n",
    "# Main idea is group by the columns of the table by month year and plot the 2020-Jan , 2020- Feb , 2020-March\n",
    "#Step 1 : Create a Month_year column in both cases_by_country and cases_china\n",
    "# Step 2: Create a function to dynamically filter and return the data frame values\n",
    "# Step 3: Create a data frame by combining the individual data frames\n",
    "# Step 4: Use it plot a graph\n",
    "\n",
    "\n",
    "cases_by_country['month_year']=pd.to_datetime(cases_by_country['date']).dt.to_period('M')\n",
    "cases_china['month_year']=pd.to_datetime(cases_china['date']).dt.to_period('M')"
   ]
  },
  {
   "cell_type": "code",
   "execution_count": 13,
   "metadata": {},
   "outputs": [],
   "source": [
    "# creating a function to get the top values\n",
    "def top(df, n=5, month_fil='month_year',column='cases'):\n",
    "    group_country= df[df['month_year']==month_fil].groupby('country').sum()\n",
    "    group_country['month_year']=month_fil\n",
    "    return group_country.nlargest(n, column, keep='first').reset_index()\n",
    "\n",
    "# We are using the function above to get the top n COVID country values from the dataframe for each month \n",
    "# Then we concat to create a chart data frame\n",
    "\n",
    "chart_top_values_month = pd.concat([top(cases_by_country,n=5,month_fil='2020-01'),top(cases_by_country,n=5,month_fil='2020-02'),top(cases_by_country,n=5,month_fil='2020-03'),\n",
    "top(cases_china,n=5,month_fil='2020-01'),top(cases_china,n=5,month_fil='2020-02'),top(cases_china,n=5,month_fil='2020-03')],ignore_index=True)"
   ]
  },
  {
   "cell_type": "code",
   "execution_count": 15,
   "metadata": {},
   "outputs": [
    {
     "data": {
      "image/png": "[encoded data removed]",
      "text/plain": [
       "<Figure size 1440x504 with 1 Axes>"
      ]
     },
     "metadata": {
      "needs_background": "light"
     },
     "output_type": "display_data"
    }
   ],
   "source": [
    "chart_final_top_values= chart_top_values_month.pivot(index='month_year', columns='country', values='cases')\n",
    "\n",
    "axes=chart_final_top_values.plot.bar(figsize=(20,7),title='Total Confirmed Cases China Vs Other Countries - Period- [Jan-2020 - Mar-2020]',fontsize=12,legend=True)\n",
    "\n",
    "plt.xlabel(\"Month Year\")\n",
    "plt.ylabel(\"Count\")\n",
    "plt.xticks(rotation=0)\n",
    "   \n",
    "plt.show()"
   ]
  },
  {
   "cell_type": "code",
   "execution_count": 16,
   "metadata": {},
   "outputs": [],
   "source": [
    "# From the above graph we can see that the number of cases in China was very high for January and February when compared to other countries"
   ]
  },
  {
   "cell_type": "code",
   "execution_count": null,
   "metadata": {},
   "outputs": [],
   "source": []
  },
  {
   "cell_type": "code",
   "execution_count": null,
   "metadata": {},
   "outputs": [],
   "source": []
  },
  {
   "cell_type": "code",
   "execution_count": null,
   "metadata": {},
   "outputs": [],
   "source": []
  },
  {
   "cell_type": "code",
   "execution_count": null,
   "metadata": {},
   "outputs": [],
   "source": []
  },
  {
   "cell_type": "markdown",
   "metadata": {},
   "source": [
    "### 2.3: Plotting the accumulated cases by date (2 marks)\n",
    "\n",
    "Add a new column called \"acc\\_cases\" in both  \"cases\\_not\\_china\" and \"cases\\_china\" dataframes, which contains the accumulated number of cases by date. Create a time series plot for \"acc\\_cases\" column in \"cases\\_not\\_china\" dataframe."
   ]
  },
  {
   "cell_type": "code",
   "execution_count": 17,
   "metadata": {},
   "outputs": [],
   "source": [
    "### 2.c Implemeting the Time Series Plot for the accumulated cases by date\n",
    "# Here we are calculating the Cumulative density function and then plotting for cases outside China\n",
    "\n",
    "cases_not_china['acc_cases']= cases_not_china.sort_values(['country','date']).groupby('country').cumsum()"
   ]
  },
  {
   "cell_type": "code",
   "execution_count": 18,
   "metadata": {},
   "outputs": [],
   "source": [
    "cases_china['acc_cases']= cases_china.sort_values(['country','date']).groupby('country').cumsum()"
   ]
  },
  {
   "cell_type": "code",
   "execution_count": 19,
   "metadata": {},
   "outputs": [
    {
     "data": {
      "image/png": "[encoded data removed]",
      "text/plain": [
       "<Figure size 1440x864 with 1 Axes>"
      ]
     },
     "metadata": {
      "needs_background": "light"
     },
     "output_type": "display_data"
    }
   ],
   "source": [
    "plt.figure(figsize=(20,12));\n",
    "\n",
    "x = cases_not_china['date']\n",
    "y = cases_not_china['acc_cases']\n",
    "plt.xticks(rotation=90)\n",
    "plt.ylabel('Cumulative Count')\n",
    "plt.xlabel('TimeFrame')\n",
    "plt.title('TimeSeries for COVID Cases (Exluding China) for the Period From 2020-01 to 2020-03')\n",
    "plt.plot(x,y)\n",
    "plt.show()"
   ]
  },
  {
   "cell_type": "code",
   "execution_count": 20,
   "metadata": {},
   "outputs": [],
   "source": [
    "# From the above graph, we can clearly see that the number of cases in China had exponentially increased from end of February itself."
   ]
  },
  {
   "cell_type": "code",
   "execution_count": null,
   "metadata": {},
   "outputs": [],
   "source": []
  },
  {
   "cell_type": "code",
   "execution_count": null,
   "metadata": {},
   "outputs": [],
   "source": []
  },
  {
   "cell_type": "markdown",
   "metadata": {},
   "source": [
    "### 2.4: Analysing across countries (3 marks)\n",
    "When the number of COVID-19 cases became higher than 10,000 in China, what was the number of cases for all other counties in that day? Print the 5 countries with highest number of cases. \n",
    "\n",
    "\n",
    "During the first 5 days that the daily cases in China dropped below 100, what is average number of cases for other countries? Report the top 5 countries with average number of cases."
   ]
  },
  {
   "cell_type": "code",
   "execution_count": 21,
   "metadata": {},
   "outputs": [],
   "source": [
    "#Section 2.4 Analysis across countries\n",
    "# In this section we are going to analyse how the cases in rest of world was when compared to China on specific period.\n",
    "\n",
    "#1. Cases all over the world when cases in China spiked like around 10000 cases per day.\n",
    "# and plotting the top 5 countries\n",
    "ch_gr=cases_china[cases_china['cases']>10000].sort_values(['date'],ascending=False).head(1)['date']\n",
    "ch_gr= ch_gr.to_numpy()\n"
   ]
  },
  {
   "cell_type": "code",
   "execution_count": 22,
   "metadata": {},
   "outputs": [
    {
     "data": {
      "text/html": [
       "<div>\n",
       "<style scoped>\n",
       "    .dataframe tbody tr th:only-of-type {\n",
       "        vertical-align: middle;\n",
       "    }\n",
       "\n",
       "    .dataframe tbody tr th {\n",
       "        vertical-align: top;\n",
       "    }\n",
       "\n",
       "    .dataframe thead th {\n",
       "        text-align: right;\n",
       "    }\n",
       "</style>\n",
       "<table border=\"1\" class=\"dataframe\">\n",
       "  <thead>\n",
       "    <tr style=\"text-align: right;\">\n",
       "      <th></th>\n",
       "      <th>country</th>\n",
       "      <th>date</th>\n",
       "      <th>cases</th>\n",
       "      <th>month_year</th>\n",
       "      <th>rank_name</th>\n",
       "    </tr>\n",
       "  </thead>\n",
       "  <tbody>\n",
       "    <tr>\n",
       "      <th>5331</th>\n",
       "      <td>Singapore</td>\n",
       "      <td>2020-02-13</td>\n",
       "      <td>8</td>\n",
       "      <td>2020-02</td>\n",
       "      <td>1.0</td>\n",
       "    </tr>\n",
       "    <tr>\n",
       "      <th>5356</th>\n",
       "      <td>Vietnam</td>\n",
       "      <td>2020-02-13</td>\n",
       "      <td>1</td>\n",
       "      <td>2020-02</td>\n",
       "      <td>3.0</td>\n",
       "    </tr>\n",
       "    <tr>\n",
       "      <th>5294</th>\n",
       "      <td>Malaysia</td>\n",
       "      <td>2020-02-13</td>\n",
       "      <td>1</td>\n",
       "      <td>2020-02</td>\n",
       "      <td>3.0</td>\n",
       "    </tr>\n",
       "    <tr>\n",
       "      <th>5364</th>\n",
       "      <td>US</td>\n",
       "      <td>2020-02-13</td>\n",
       "      <td>1</td>\n",
       "      <td>2020-02</td>\n",
       "      <td>3.0</td>\n",
       "    </tr>\n",
       "  </tbody>\n",
       "</table>\n",
       "</div>"
      ],
      "text/plain": [
       "        country        date  cases month_year  rank_name\n",
       "5331  Singapore  2020-02-13      8    2020-02        1.0\n",
       "5356    Vietnam  2020-02-13      1    2020-02        3.0\n",
       "5294   Malaysia  2020-02-13      1    2020-02        3.0\n",
       "5364         US  2020-02-13      1    2020-02        3.0"
      ]
     },
     "execution_count": 22,
     "metadata": {},
     "output_type": "execute_result"
    }
   ],
   "source": [
    "#Cases of Top 5 countries by count of cases - conditional on the date where cases in China was greater than 10000\n",
    "# The reason why there are more than 5 records is because the last value is 0 and so we should include the countries which \n",
    "#reported 0 cases. So we created rank column and filtered on the first 5 ranks.\n",
    "\n",
    "cases_other_countries_sp_date= pd.concat([cases_by_country[cases_by_country['date']==ch_gr[0]].sort_values(['cases'],ascending=False).head(5),\n",
    "cases_by_country[(cases_by_country['date']==ch_gr[0]) &(cases_by_country['cases']==0)].sort_values(['cases'],ascending=False)])\n",
    "\n",
    "cases_other_countries_sp_date['rank_name']=cases_other_countries_sp_date['cases'].rank(ascending=False)\n",
    "\n",
    "cases_other_countries_sp_date[cases_other_countries_sp_date['rank_name']<=5]\n"
   ]
  },
  {
   "cell_type": "code",
   "execution_count": 23,
   "metadata": {},
   "outputs": [],
   "source": [
    "#Based on the above obeservation we can see that there were only 4 countries which has cases reported on that day."
   ]
  },
  {
   "cell_type": "code",
   "execution_count": 24,
   "metadata": {},
   "outputs": [],
   "source": [
    "#Next we are going to check the cases all over the world when the cases in China was less than 100"
   ]
  },
  {
   "cell_type": "code",
   "execution_count": 25,
   "metadata": {},
   "outputs": [],
   "source": [
    "ch_le =cases_china[cases_china['cases']<100].sort_values(['date']).head(5)['date']\n",
    "ch_le = ch_le.to_numpy()"
   ]
  },
  {
   "cell_type": "code",
   "execution_count": 26,
   "metadata": {},
   "outputs": [
    {
     "data": {
      "text/html": [
       "<div>\n",
       "<style scoped>\n",
       "    .dataframe tbody tr th:only-of-type {\n",
       "        vertical-align: middle;\n",
       "    }\n",
       "\n",
       "    .dataframe tbody tr th {\n",
       "        vertical-align: top;\n",
       "    }\n",
       "\n",
       "    .dataframe thead th {\n",
       "        text-align: right;\n",
       "    }\n",
       "</style>\n",
       "<table border=\"1\" class=\"dataframe\">\n",
       "  <thead>\n",
       "    <tr style=\"text-align: right;\">\n",
       "      <th></th>\n",
       "      <th>cases</th>\n",
       "    </tr>\n",
       "    <tr>\n",
       "      <th>country</th>\n",
       "      <th></th>\n",
       "    </tr>\n",
       "  </thead>\n",
       "  <tbody>\n",
       "    <tr>\n",
       "      <th>Italy</th>\n",
       "      <td>925.8</td>\n",
       "    </tr>\n",
       "    <tr>\n",
       "      <th>Iran</th>\n",
       "      <td>485.8</td>\n",
       "    </tr>\n",
       "    <tr>\n",
       "      <th>Korea, South</th>\n",
       "      <td>210.8</td>\n",
       "    </tr>\n",
       "    <tr>\n",
       "      <th>Spain</th>\n",
       "      <td>134.6</td>\n",
       "    </tr>\n",
       "    <tr>\n",
       "      <th>Germany</th>\n",
       "      <td>101.2</td>\n",
       "    </tr>\n",
       "  </tbody>\n",
       "</table>\n",
       "</div>"
      ],
      "text/plain": [
       "              cases\n",
       "country            \n",
       "Italy         925.8\n",
       "Iran          485.8\n",
       "Korea, South  210.8\n",
       "Spain         134.6\n",
       "Germany       101.2"
      ]
     },
     "execution_count": 26,
     "metadata": {},
     "output_type": "execute_result"
    }
   ],
   "source": [
    "cases_by_country[cases_by_country['date'].isin(ch_le)].groupby('country').mean().sort_values(['cases'],ascending=False).head(5)"
   ]
  },
  {
   "cell_type": "code",
   "execution_count": null,
   "metadata": {},
   "outputs": [],
   "source": [
    "# Here we can see when the cases in China became less towards the end the cases spiked all over the world"
   ]
  },
  {
   "cell_type": "code",
   "execution_count": null,
   "metadata": {},
   "outputs": [],
   "source": [
    "#################This concluded the end of the Analysis for 2 ###################"
   ]
  }
 ],
 "metadata": {
  "kernelspec": {
   "display_name": "Python 3",
   "language": "python",
   "name": "python3"
  },
  "language_info": {
   "codemirror_mode": {
    "name": "ipython",
    "version": 3
   },
   "file_extension": ".py",
   "mimetype": "text/x-python",
   "name": "python",
   "nbconvert_exporter": "python",
   "pygments_lexer": "ipython3",
   "version": "3.8.3"
  }
 },
 "nbformat": 4,
 "nbformat_minor": 4
}
